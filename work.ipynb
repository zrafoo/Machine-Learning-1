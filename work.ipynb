{
 "cells": [
  {
   "cell_type": "code",
   "execution_count": 2,
   "id": "41581f81",
   "metadata": {},
   "outputs": [],
   "source": [
    "import pandas as pd\n",
    "import matplotlib.pyplot as plt\n",
    "\n",
    "file_path = 'users_transfers_with_resol.csv'\n",
    "data = pd.read_csv(file_path)"
   ]
  },
  {
   "cell_type": "code",
   "execution_count": 2,
   "id": "67098247",
   "metadata": {},
   "outputs": [
    {
     "data": {
      "text/html": [
       "<div>\n",
       "<style scoped>\n",
       "    .dataframe tbody tr th:only-of-type {\n",
       "        vertical-align: middle;\n",
       "    }\n",
       "\n",
       "    .dataframe tbody tr th {\n",
       "        vertical-align: top;\n",
       "    }\n",
       "\n",
       "    .dataframe thead th {\n",
       "        text-align: right;\n",
       "    }\n",
       "</style>\n",
       "<table border=\"1\" class=\"dataframe\">\n",
       "  <thead>\n",
       "    <tr style=\"text-align: right;\">\n",
       "      <th></th>\n",
       "      <th>user_id</th>\n",
       "      <th>rec_user_id</th>\n",
       "      <th>resolution</th>\n",
       "      <th>spath</th>\n",
       "    </tr>\n",
       "  </thead>\n",
       "  <tbody>\n",
       "    <tr>\n",
       "      <th>0</th>\n",
       "      <td>8973188</td>\n",
       "      <td>104561939</td>\n",
       "      <td>0</td>\n",
       "      <td>0</td>\n",
       "    </tr>\n",
       "    <tr>\n",
       "      <th>1</th>\n",
       "      <td>38513845</td>\n",
       "      <td>24219945</td>\n",
       "      <td>0</td>\n",
       "      <td>4</td>\n",
       "    </tr>\n",
       "    <tr>\n",
       "      <th>2</th>\n",
       "      <td>5308960</td>\n",
       "      <td>1917541</td>\n",
       "      <td>0</td>\n",
       "      <td>0</td>\n",
       "    </tr>\n",
       "    <tr>\n",
       "      <th>3</th>\n",
       "      <td>MBK11607330</td>\n",
       "      <td>CRM27882558</td>\n",
       "      <td>0</td>\n",
       "      <td>0</td>\n",
       "    </tr>\n",
       "    <tr>\n",
       "      <th>4</th>\n",
       "      <td>21934431</td>\n",
       "      <td>103050232</td>\n",
       "      <td>0</td>\n",
       "      <td>0</td>\n",
       "    </tr>\n",
       "  </tbody>\n",
       "</table>\n",
       "</div>"
      ],
      "text/plain": [
       "       user_id  rec_user_id  resolution  spath\n",
       "0      8973188    104561939           0      0\n",
       "1     38513845     24219945           0      4\n",
       "2      5308960      1917541           0      0\n",
       "3  MBK11607330  CRM27882558           0      0\n",
       "4     21934431    103050232           0      0"
      ]
     },
     "execution_count": 2,
     "metadata": {},
     "output_type": "execute_result"
    }
   ],
   "source": [
    "data.head()"
   ]
  },
  {
   "cell_type": "code",
   "execution_count": 9,
   "id": "72af93fa",
   "metadata": {},
   "outputs": [
    {
     "name": "stdout",
     "output_type": "stream",
     "text": [
      "spath\n",
      "0     7512\n",
      "1       12\n",
      "2      910\n",
      "3     1606\n",
      "4     3103\n",
      "5     2823\n",
      "6     1483\n",
      "7      363\n",
      "8       96\n",
      "9        6\n",
      "10       1\n",
      "11       1\n",
      "dtype: int64\n"
     ]
    },
    {
     "data": {
      "text/plain": [
       "spath\n",
       "0    76\n",
       "2     3\n",
       "3     1\n",
       "4    20\n",
       "5    40\n",
       "6    28\n",
       "7    16\n",
       "8     3\n",
       "dtype: int64"
      ]
     },
     "execution_count": 9,
     "metadata": {},
     "output_type": "execute_result"
    }
   ],
   "source": [
    "# Рассчитаем коэффициент мошенничества для каждого значения spath\n",
    "fraud_data = data[data['resolution'] == 1]\n",
    "total_data = data.groupby('spath').size()\n",
    "fraud_data = fraud_data.groupby('spath').size()\n",
    "fraud_ratio = (fraud_data / total_data * 100).fillna(0)\n",
    "print(total_data)\n",
    "fraud_data"
   ]
  },
  {
   "cell_type": "code",
   "execution_count": 4,
   "id": "fb5facb7",
   "metadata": {},
   "outputs": [
    {
     "data": {
      "image/png": "[encoded data removed]",
      "text/plain": [
       "<Figure size 720x432 with 1 Axes>"
      ]
     },
     "metadata": {
      "needs_background": "light"
     },
     "output_type": "display_data"
    }
   ],
   "source": [
    "plt.figure(figsize=[10, 6])\n",
    "plt.bar(fraud_ratio.index, fraud_ratio, width=0.6, color='orange')\n",
    "plt.xlabel('spath')\n",
    "plt.ylabel('Fraud Ratio (%)')\n",
    "plt.title('Distribution of Fraud Ratio and Connection Between Clients')\n",
    "plt.grid(axis='y')\n",
    "plt.show()"
   ]
  }
 ],
 "metadata": {
  "kernelspec": {
   "display_name": "Python 3 (ipykernel)",
   "language": "python",
   "name": "python3"
  },
  "language_info": {
   "codemirror_mode": {
    "name": "ipython",
    "version": 3
   },
   "file_extension": ".py",
   "mimetype": "text/x-python",
   "name": "python",
   "nbconvert_exporter": "python",
   "pygments_lexer": "ipython3",
   "version": "3.11.9"
  }
 },
 "nbformat": 4,
 "nbformat_minor": 5
}
